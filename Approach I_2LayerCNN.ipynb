{
  "nbformat": 4,
  "nbformat_minor": 0,
  "metadata": {
    "colab": {
      "name": "Final2LayerCNN.ipynb",
      "provenance": [],
      "toc_visible": true
    },
    "kernelspec": {
      "name": "python3",
      "display_name": "Python 3"
    },
    "language_info": {
      "name": "python"
    },
    "gpuClass": "standard",
    "accelerator": "GPU"
  },
  "cells": [
    {
      "cell_type": "markdown",
      "source": [
        "# Folder Split\n"
      ],
      "metadata": {
        "id": "aXqqjHknHUrQ"
      }
    },
    {
      "cell_type": "code",
      "source": [
        "!mkdir output_folder\n"
      ],
      "metadata": {
        "id": "pCL45Y6tHaz3"
      },
      "execution_count": 1,
      "outputs": []
    },
    {
      "cell_type": "code",
      "source": [
        "!unzip \"/content/drive/MyDrive/charts.zip\" -d \"/content/output_folder\""
      ],
      "metadata": {
        "id": "vtYzlyEKw8XJ"
      },
      "execution_count": null,
      "outputs": []
    },
    {
      "cell_type": "code",
      "source": [
        "from google.colab import drive\n",
        "drive.mount('/content/drive')"
      ],
      "metadata": {
        "colab": {
          "base_uri": "https://localhost:8080/"
        },
        "id": "w0oTLyeeVaOr",
        "outputId": "47985e93-c43c-4f4b-b97f-3661aa3e4c25"
      },
      "execution_count": 4,
      "outputs": [
        {
          "output_type": "stream",
          "name": "stdout",
          "text": [
            "Mounted at /content/drive\n"
          ]
        }
      ]
    },
    {
      "cell_type": "code",
      "source": [
        "import shutil, os\n",
        "import pandas as pd"
      ],
      "metadata": {
        "id": "m6Ht6fBkxoBn"
      },
      "execution_count": 5,
      "outputs": []
    },
    {
      "cell_type": "code",
      "source": [
        "df = pd.read_csv('/content/output_folder/charts/train_val.csv', sep=\",\", names=['image_index','type'])\n",
        "\n"
      ],
      "metadata": {
        "id": "XR7fA4KLxoSz"
      },
      "execution_count": 8,
      "outputs": []
    },
    {
      "cell_type": "code",
      "source": [
        "labels = df.iloc[1:,:].sort_values('type')\n",
        "class_names = list(labels.type.unique())\n"
      ],
      "metadata": {
        "id": "McgSmcZCyTev"
      },
      "execution_count": 9,
      "outputs": []
    },
    {
      "cell_type": "code",
      "source": [
        "class_names"
      ],
      "metadata": {
        "colab": {
          "base_uri": "https://localhost:8080/"
        },
        "id": "Wbqgh3b5_rPj",
        "outputId": "f78d5f91-31d5-421a-9e3f-8e2892bcc231"
      },
      "execution_count": null,
      "outputs": [
        {
          "output_type": "execute_result",
          "data": {
            "text/plain": [
              "['dot_line', 'hbar_categorical', 'line', 'pie', 'vbar_categorical']"
            ]
          },
          "metadata": {},
          "execution_count": 8
        }
      ]
    },
    {
      "cell_type": "code",
      "source": [
        "'''l=list(labels[labels['type']==c]['image_index'])'''"
      ],
      "metadata": {
        "id": "C2EH42Ik3w_m",
        "colab": {
          "base_uri": "https://localhost:8080/",
          "height": 36
        },
        "outputId": "4592dfaa-cc98-4387-81ca-be27d2683d86"
      },
      "execution_count": null,
      "outputs": [
        {
          "output_type": "execute_result",
          "data": {
            "text/plain": [
              "\"l=list(labels[labels['type']==c]['image_index'])\""
            ],
            "application/vnd.google.colaboratory.intrinsic+json": {
              "type": "string"
            }
          },
          "metadata": {},
          "execution_count": 9
        }
      ]
    },
    {
      "cell_type": "code",
      "source": [
        "'''for c in class_names:\n",
        "    for i in l:\n",
        "      print(i+'.png')\n",
        "'''"
      ],
      "metadata": {
        "id": "hpYhY9oJ33wq",
        "colab": {
          "base_uri": "https://localhost:8080/",
          "height": 36
        },
        "outputId": "383607a7-f31c-4bfa-b789-658a040c9885"
      },
      "execution_count": null,
      "outputs": [
        {
          "output_type": "execute_result",
          "data": {
            "text/plain": [
              "\"for c in class_names:\\n    for i in l:\\n      print(i+'.png')\\n\""
            ],
            "application/vnd.google.colaboratory.intrinsic+json": {
              "type": "string"
            }
          },
          "metadata": {},
          "execution_count": 10
        }
      ]
    },
    {
      "cell_type": "code",
      "source": [
        "for i in class_names:\n",
        "    os.makedirs(os.path.join('test_',i))\n"
      ],
      "metadata": {
        "id": "XNKQHZH6_IhF"
      },
      "execution_count": 10,
      "outputs": []
    },
    {
      "cell_type": "code",
      "source": [
        "'''for c in class_names:\n",
        "  print(c)'''"
      ],
      "metadata": {
        "id": "jEgpgrhJAiuq",
        "colab": {
          "base_uri": "https://localhost:8080/",
          "height": 36
        },
        "outputId": "f0f2e3f7-7341-4080-957e-230f0815022a"
      },
      "execution_count": null,
      "outputs": [
        {
          "output_type": "execute_result",
          "data": {
            "text/plain": [
              "'for c in class_names:\\n  print(c)'"
            ],
            "application/vnd.google.colaboratory.intrinsic+json": {
              "type": "string"
            }
          },
          "metadata": {},
          "execution_count": 12
        }
      ]
    },
    {
      "cell_type": "code",
      "source": [
        "for c in class_names:\n",
        "    for i in list(labels[labels['type']==c]['image_index']):\n",
        "\n",
        "        #create path to the image \n",
        "        i=i+'.png'\n",
        "        #print(i)\n",
        "        get_image = os.path.join('/content/output_folder/charts/train_val',i)\n",
        "\n",
        "        #If image has not already exist in the new folder create one        \n",
        "        if not os.path.exists('test_/'+c+i):\n",
        "            # move the image \n",
        "            move_image_to_cat = shutil.move(get_image,'test_/'+c)"
      ],
      "metadata": {
        "id": "pusyLMkFyqOD"
      },
      "execution_count": 11,
      "outputs": []
    },
    {
      "cell_type": "code",
      "source": [
        "for c in class_names:\n",
        "    print (c)\n",
        "    for i in list(labels[labels['type']==c]['image_index']):\n",
        "      print(i)"
      ],
      "metadata": {
        "id": "qlH6ToUiAp0B"
      },
      "execution_count": null,
      "outputs": []
    },
    {
      "cell_type": "code",
      "source": [
        "import cv2\n",
        "\n",
        "im = cv2.imread('/content/test_/dot_line/800.png')\n",
        "\n",
        "print(type(im))\n",
        "# <class 'numpy.ndarray'>\n",
        "\n",
        "print(im.shape)\n",
        "print(type(im.shape))\n",
        "# (225, 400, 3)\n",
        "# <class 'tuple'>"
      ],
      "metadata": {
        "id": "x35thZr-dxZt",
        "colab": {
          "base_uri": "https://localhost:8080/"
        },
        "outputId": "2792702f-bf69-4b93-d5df-f405bb4982b2"
      },
      "execution_count": null,
      "outputs": [
        {
          "output_type": "stream",
          "name": "stdout",
          "text": [
            "<class 'numpy.ndarray'>\n",
            "(128, 128, 3)\n",
            "<class 'tuple'>\n"
          ]
        }
      ]
    },
    {
      "cell_type": "markdown",
      "source": [
        "# Generator"
      ],
      "metadata": {
        "id": "j0VFP-eFHdBd"
      }
    },
    {
      "cell_type": "code",
      "source": [
        "from tensorflow.keras.preprocessing.image import ImageDataGenerator\n"
      ],
      "metadata": {
        "id": "HqV0Ujb0f4UQ"
      },
      "execution_count": 12,
      "outputs": []
    },
    {
      "cell_type": "code",
      "source": [
        "import glob\n",
        "train_dir='/content/test_/'\n",
        "file_ = []\n",
        "for i in range(5) :\n",
        "    imfile = glob.glob(train_dir+class_names[i]+'/*.png')\n",
        "    file_ += [len(imfile)]\n",
        "\n",
        "(file_)"
      ],
      "metadata": {
        "colab": {
          "base_uri": "https://localhost:8080/"
        },
        "id": "w-Vbc6c1Hh7T",
        "outputId": "c52af451-d643-40f8-91f5-c500adddf6d9"
      },
      "execution_count": 13,
      "outputs": [
        {
          "output_type": "execute_result",
          "data": {
            "text/plain": [
              "[200, 200, 200, 200, 200]"
            ]
          },
          "metadata": {},
          "execution_count": 13
        }
      ]
    },
    {
      "cell_type": "code",
      "source": [
        "'''\n",
        "import matplotlib.pyplot as plt\n",
        "fig = plt.figure(figsize = (9,6))\n",
        "bx = fig.add_subplot()\n",
        "bx.bar(class_names,file_)\n",
        "plt.xticks(rotation = 90)\n",
        "plt.show()\n",
        "'''"
      ],
      "metadata": {
        "id": "OuLY0gdcK7m0",
        "colab": {
          "base_uri": "https://localhost:8080/",
          "height": 53
        },
        "outputId": "de0a589b-a9f1-4be7-a6de-87ef4897e135"
      },
      "execution_count": null,
      "outputs": [
        {
          "output_type": "execute_result",
          "data": {
            "text/plain": [
              "'\\nimport matplotlib.pyplot as plt\\nfig = plt.figure(figsize = (9,6))\\nbx = fig.add_subplot()\\nbx.bar(class_names,file_)\\nplt.xticks(rotation = 90)\\nplt.show()\\n'"
            ],
            "application/vnd.google.colaboratory.intrinsic+json": {
              "type": "string"
            }
          },
          "metadata": {},
          "execution_count": 17
        }
      ]
    },
    {
      "cell_type": "code",
      "source": [
        "!mkdir train\n",
        "import tensorflow as tf\n",
        "save_dir_new='/content/train'"
      ],
      "metadata": {
        "id": "f9RIcKFkLd3T"
      },
      "execution_count": null,
      "outputs": []
    },
    {
      "cell_type": "code",
      "source": [
        "\n",
        "from tensorflow.keras.preprocessing.image import ImageDataGenerator\n",
        "ScaleTo=128\n",
        "ds_gen = ImageDataGenerator(\n",
        "    validation_split=0.2 ,rescale=1. / 255\n",
        ")\n",
        "\n",
        "train_ds = ds_gen.flow_from_directory(\n",
        "  \"/content/test_/\", \n",
        "  seed=1,\n",
        "  \n",
        "  target_size=(ScaleTo, ScaleTo), #adjust to your needs\n",
        "  batch_size=32,#adjust to your needs\n",
        "  class_mode='categorical',\n",
        "  subset='training' \n",
        ")\n",
        "\n",
        "val_ds = ds_gen.flow_from_directory(\n",
        "  \"/content/test_/\",\n",
        "  seed=1,\n",
        "  target_size=(ScaleTo, ScaleTo),\n",
        "  batch_size=32,\n",
        "  class_mode='categorical',\n",
        "  subset='validation'\n",
        ")\n"
      ],
      "metadata": {
        "colab": {
          "base_uri": "https://localhost:8080/"
        },
        "id": "cy2pQHsuaNbG",
        "outputId": "24d616ff-574a-4e42-84df-6bff9eaeea32"
      },
      "execution_count": 17,
      "outputs": [
        {
          "output_type": "stream",
          "name": "stdout",
          "text": [
            "Found 800 images belonging to 5 classes.\n",
            "Found 200 images belonging to 5 classes.\n"
          ]
        }
      ]
    },
    {
      "cell_type": "code",
      "source": [
        "data_generator = ImageDataGenerator(\n",
        "        validation_split=0.05,\n",
        "        rotation_range=20,\n",
        "        width_shift_range=0.2,\n",
        "        height_shift_range=0.2,\n",
        "        shear_range=0.2,\n",
        "        zoom_range=0.10,\n",
        "        horizontal_flip=True,\n",
        "        fill_mode='nearest')\n",
        "im_shape=(128,128)\n",
        "BATCH_SIZE = 16\n",
        "val_data_generator = ImageDataGenerator(validation_split=0.2)\n",
        "train_generator = data_generator.flow_from_directory('/content/test_/',target_size=im_shape, shuffle=True, \n",
        "                                                     class_mode='categorical', batch_size=BATCH_SIZE, subset=\"training\")\n",
        "# Generator para parte validação\n",
        "validation_generator = val_data_generator.flow_from_directory('/content/test_/',target_size=im_shape, shuffle=False, \n",
        "                                                     class_mode='categorical', batch_size=BATCH_SIZE, subset=\"validation\")\n",
        "\n",
        "# Generator para dataset de teste\n",
        "test_generator = ImageDataGenerator()\n",
        "test_generator = test_generator.flow_from_directory('/content/output_folder/charts/',target_size=im_shape,classes=['test'], shuffle=False,\n",
        "                                                     class_mode='categorical', batch_size=BATCH_SIZE)\n",
        "\n",
        "nb_train_samples = train_generator.samples\n",
        "nb_validation_samples = validation_generator.samples\n",
        "nb_test_samples = test_generator.samples\n",
        "classes = list(train_generator.class_indices.keys())\n",
        "print('Classes: '+str(classes))\n",
        "num_classes  = len(classes)"
      ],
      "metadata": {
        "colab": {
          "base_uri": "https://localhost:8080/"
        },
        "id": "PKjk2WtCLii3",
        "outputId": "cb7f5da0-8440-4d1e-bb6a-1258ea0ce4da"
      },
      "execution_count": 14,
      "outputs": [
        {
          "output_type": "stream",
          "name": "stdout",
          "text": [
            "Found 950 images belonging to 5 classes.\n",
            "Found 200 images belonging to 5 classes.\n",
            "Found 50 images belonging to 1 classes.\n",
            "Classes: ['dot_line', 'hbar_categorical', 'line', 'pie', 'vbar_categorical']\n"
          ]
        }
      ]
    },
    {
      "cell_type": "markdown",
      "source": [
        "#Model"
      ],
      "metadata": {
        "id": "gUfIZmxEBL7o"
      }
    },
    {
      "cell_type": "code",
      "source": [
        "import pandas as pd\n",
        "import numpy as np\n",
        "import keras\n",
        "import tensorflow as tf\n",
        "from sklearn.model_selection import train_test_split\n",
        "from keras.utils.np_utils import to_categorical\n",
        "from keras.models import Sequential\n",
        "from keras.layers import Dense, Dropout, Flatten, Conv2D, MaxPool2D, AvgPool2D, BatchNormalization, Reshape\n",
        "from keras.preprocessing.image import ImageDataGenerator\n",
        "from tensorflow.keras import Sequential\n",
        "from tensorflow.keras.layers import Conv2D,Dense,MaxPool2D,Flatten\n",
        "from tensorflow.keras.regularizers import l2"
      ],
      "metadata": {
        "id": "Uh5kGat6PQ8o"
      },
      "execution_count": 15,
      "outputs": []
    },
    {
      "cell_type": "code",
      "source": [
        "model = Sequential()\n",
        "model.add(Conv2D(filters = 32, padding = \"same\",activation = \"relu\",kernel_size=3, strides = 2,input_shape=(128,128,3)))\n",
        "model.add(MaxPool2D(pool_size=(2,2),strides = 2))\n",
        "model.add(BatchNormalization(axis=3))\n",
        "\n",
        "model.add(Conv2D(filters = 32, padding = \"same\",activation = \"relu\",kernel_size=3))\n",
        "model.add(MaxPool2D(pool_size=(2,2),strides = 2))\n",
        "model.add(BatchNormalization(axis=3))\n",
        "\n",
        "\n",
        "model.add(Flatten())\n",
        "model.add(Dense(128,activation=\"relu\"))\n",
        "model.add(Dropout(0.5))\n",
        "\n",
        "model.add(Dense(5,kernel_regularizer = l2(0.01),activation= \"softmax\"))\n",
        "model.compile(optimizer=\"adam\",loss=\"categorical_crossentropy\", metrics = ['accuracy'])"
      ],
      "metadata": {
        "id": "wX2FfNEg_Ie-"
      },
      "execution_count": 16,
      "outputs": []
    },
    {
      "cell_type": "code",
      "source": [
        "model.summary()"
      ],
      "metadata": {
        "id": "vuvHojjCRZ5r",
        "outputId": "4a9bfdc5-46ec-4c3c-a3f2-ec9242005436",
        "colab": {
          "base_uri": "https://localhost:8080/"
        }
      },
      "execution_count": 3,
      "outputs": [
        {
          "output_type": "stream",
          "name": "stdout",
          "text": [
            "Model: \"sequential\"\n",
            "_________________________________________________________________\n",
            " Layer (type)                Output Shape              Param #   \n",
            "=================================================================\n",
            " conv2d (Conv2D)             (None, 64, 64, 32)        896       \n",
            "                                                                 \n",
            " max_pooling2d (MaxPooling2D  (None, 32, 32, 32)       0         \n",
            " )                                                               \n",
            "                                                                 \n",
            " batch_normalization (BatchN  (None, 32, 32, 32)       128       \n",
            " ormalization)                                                   \n",
            "                                                                 \n",
            " conv2d_1 (Conv2D)           (None, 32, 32, 32)        9248      \n",
            "                                                                 \n",
            " max_pooling2d_1 (MaxPooling  (None, 16, 16, 32)       0         \n",
            " 2D)                                                             \n",
            "                                                                 \n",
            " batch_normalization_1 (Batc  (None, 16, 16, 32)       128       \n",
            " hNormalization)                                                 \n",
            "                                                                 \n",
            " flatten (Flatten)           (None, 8192)              0         \n",
            "                                                                 \n",
            " dense (Dense)               (None, 128)               1048704   \n",
            "                                                                 \n",
            " dropout (Dropout)           (None, 128)               0         \n",
            "                                                                 \n",
            " dense_1 (Dense)             (None, 5)                 645       \n",
            "                                                                 \n",
            "=================================================================\n",
            "Total params: 1,059,749\n",
            "Trainable params: 1,059,621\n",
            "Non-trainable params: 128\n",
            "_________________________________________________________________\n"
          ]
        }
      ]
    },
    {
      "cell_type": "code",
      "source": [
        "'''from keras.callbacks import ModelCheckpoint, ReduceLROnPlateau, CSVLogger\n",
        "\n",
        "# learning rate reduction\n",
        "learning_rate_reduction = ReduceLROnPlateau(monitor='val_accuracy', \n",
        "                                            patience=3, \n",
        "                                            verbose=1, \n",
        "                                            factor=0.4, \n",
        "                                            min_lr=0.00001)\n",
        "\n",
        "# checkpoints\n",
        "filepath=\"drive/DataScience/PlantReco/weights.best_{epoch:02d}-{val_accuracy:.2f}.hdf5\"\n",
        "checkpoint = ModelCheckpoint(filepath, monitor='val_accuracy', \n",
        "                             verbose=1, save_best_only=True, mode='max')\n",
        "filepath=\"drive/DataScience/PlantReco/weights.last_auto4.hdf5\"\n",
        "checkpoint_all = ModelCheckpoint(filepath, monitor='val_accuracy', \n",
        "                                 verbose=1, save_best_only=False, mode='max')\n",
        "\n",
        "# all callbacks\n",
        "callbacks_list = [ learning_rate_reduction]\n",
        "'''"
      ],
      "metadata": {
        "id": "PJvHdrvOPpRA",
        "colab": {
          "base_uri": "https://localhost:8080/",
          "height": 127
        },
        "outputId": "be046577-264a-461a-ee27-d353629a07ee"
      },
      "execution_count": 18,
      "outputs": [
        {
          "output_type": "execute_result",
          "data": {
            "text/plain": [
              "'from keras.callbacks import ModelCheckpoint, ReduceLROnPlateau, CSVLogger\\n\\n# learning rate reduction\\nlearning_rate_reduction = ReduceLROnPlateau(monitor=\\'val_accuracy\\', \\n                                            patience=3, \\n                                            verbose=1, \\n                                            factor=0.4, \\n                                            min_lr=0.00001)\\n\\n# checkpoints\\nfilepath=\"drive/DataScience/PlantReco/weights.best_{epoch:02d}-{val_accuracy:.2f}.hdf5\"\\ncheckpoint = ModelCheckpoint(filepath, monitor=\\'val_accuracy\\', \\n                             verbose=1, save_best_only=True, mode=\\'max\\')\\nfilepath=\"drive/DataScience/PlantReco/weights.last_auto4.hdf5\"\\ncheckpoint_all = ModelCheckpoint(filepath, monitor=\\'val_accuracy\\', \\n                                 verbose=1, save_best_only=False, mode=\\'max\\')\\n\\n# all callbacks\\ncallbacks_list = [ learning_rate_reduction]\\n'"
            ],
            "application/vnd.google.colaboratory.intrinsic+json": {
              "type": "string"
            }
          },
          "metadata": {},
          "execution_count": 18
        }
      ]
    },
    {
      "cell_type": "code",
      "source": [
        "epochs = 40\n",
        "\n",
        "learning_rate_reduction = ReduceLROnPlateau(monitor='val_accuracy', \n",
        "                                            patience=3, \n",
        "                                            verbose=1, \n",
        "                                            factor=0.4, \n",
        "                                            min_lr=0.00001)\n",
        "BATCH_SIZE = 16\n",
        "# Saving the best model\n",
        "callbacks_list = [learning_rate_reduction,\n",
        "    keras.callbacks.ModelCheckpoint(\n",
        "        filepath='model.h5',\n",
        "        monitor='val_loss', save_best_only=True, verbose=1),\n",
        "   # keras.callbacks.EarlyStopping(monitor='val_loss', patience=10,verbose=1)\n",
        "]\n",
        "\n",
        "history = model.fit(\n",
        "        train_generator,\n",
        "        steps_per_epoch=nb_train_samples // BATCH_SIZE,\n",
        "        epochs=epochs,\n",
        "        callbacks = callbacks_list,\n",
        "        validation_data=validation_generator,\n",
        "        verbose = 1,\n",
        "        validation_steps=nb_validation_samples // BATCH_SIZE)"
      ],
      "metadata": {
        "colab": {
          "base_uri": "https://localhost:8080/"
        },
        "id": "7V2-ck-jDjWr",
        "outputId": "4a9a69f5-70ba-4352-9a07-78513ecd948d"
      },
      "execution_count": 21,
      "outputs": [
        {
          "output_type": "stream",
          "name": "stdout",
          "text": [
            "Epoch 1/40\n",
            "59/59 [==============================] - ETA: 0s - loss: 0.0841 - accuracy: 0.9850\n",
            "Epoch 1: val_loss improved from inf to 0.06669, saving model to model.h5\n",
            "59/59 [==============================] - 4s 76ms/step - loss: 0.0841 - accuracy: 0.9850 - val_loss: 0.0667 - val_accuracy: 0.9948 - lr: 1.0000e-05\n",
            "Epoch 2/40\n",
            "59/59 [==============================] - ETA: 0s - loss: 0.0823 - accuracy: 0.9872\n",
            "Epoch 2: val_loss did not improve from 0.06669\n",
            "59/59 [==============================] - 6s 98ms/step - loss: 0.0823 - accuracy: 0.9872 - val_loss: 0.3437 - val_accuracy: 0.9323 - lr: 1.0000e-05\n",
            "Epoch 3/40\n",
            "59/59 [==============================] - ETA: 0s - loss: 0.0711 - accuracy: 0.9893\n",
            "Epoch 3: val_loss did not improve from 0.06669\n",
            "59/59 [==============================] - 4s 74ms/step - loss: 0.0711 - accuracy: 0.9893 - val_loss: 0.1966 - val_accuracy: 0.9531 - lr: 1.0000e-05\n",
            "Epoch 4/40\n",
            "59/59 [==============================] - ETA: 0s - loss: 0.0982 - accuracy: 0.9797\n",
            "Epoch 4: val_loss improved from 0.06669 to 0.05274, saving model to model.h5\n",
            "59/59 [==============================] - 4s 71ms/step - loss: 0.0982 - accuracy: 0.9797 - val_loss: 0.0527 - val_accuracy: 0.9948 - lr: 1.0000e-05\n",
            "Epoch 5/40\n",
            "59/59 [==============================] - ETA: 0s - loss: 0.0841 - accuracy: 0.9893\n",
            "Epoch 5: val_loss did not improve from 0.05274\n",
            "59/59 [==============================] - 4s 71ms/step - loss: 0.0841 - accuracy: 0.9893 - val_loss: 0.5022 - val_accuracy: 0.8906 - lr: 1.0000e-05\n",
            "Epoch 6/40\n",
            "59/59 [==============================] - ETA: 0s - loss: 0.0992 - accuracy: 0.9861\n",
            "Epoch 6: val_loss did not improve from 0.05274\n",
            "59/59 [==============================] - 4s 71ms/step - loss: 0.0992 - accuracy: 0.9861 - val_loss: 0.1276 - val_accuracy: 0.9740 - lr: 1.0000e-05\n",
            "Epoch 7/40\n",
            "59/59 [==============================] - ETA: 0s - loss: 0.0717 - accuracy: 0.9904\n",
            "Epoch 7: val_loss did not improve from 0.05274\n",
            "59/59 [==============================] - 4s 73ms/step - loss: 0.0717 - accuracy: 0.9904 - val_loss: 0.3699 - val_accuracy: 0.9219 - lr: 1.0000e-05\n",
            "Epoch 8/40\n",
            "59/59 [==============================] - ETA: 0s - loss: 0.0750 - accuracy: 0.9893\n",
            "Epoch 8: val_loss did not improve from 0.05274\n",
            "59/59 [==============================] - 4s 71ms/step - loss: 0.0750 - accuracy: 0.9893 - val_loss: 0.0725 - val_accuracy: 0.9896 - lr: 1.0000e-05\n",
            "Epoch 9/40\n",
            "59/59 [==============================] - ETA: 0s - loss: 0.0728 - accuracy: 0.9925\n",
            "Epoch 9: val_loss improved from 0.05274 to 0.05211, saving model to model.h5\n",
            "59/59 [==============================] - 4s 74ms/step - loss: 0.0728 - accuracy: 0.9925 - val_loss: 0.0521 - val_accuracy: 0.9948 - lr: 1.0000e-05\n",
            "Epoch 10/40\n",
            "59/59 [==============================] - ETA: 0s - loss: 0.0870 - accuracy: 0.9872\n",
            "Epoch 10: val_loss did not improve from 0.05211\n",
            "59/59 [==============================] - 4s 72ms/step - loss: 0.0870 - accuracy: 0.9872 - val_loss: 0.0875 - val_accuracy: 0.9896 - lr: 1.0000e-05\n",
            "Epoch 11/40\n",
            "59/59 [==============================] - ETA: 0s - loss: 0.0692 - accuracy: 0.9882\n",
            "Epoch 11: val_loss did not improve from 0.05211\n",
            "59/59 [==============================] - 4s 72ms/step - loss: 0.0692 - accuracy: 0.9882 - val_loss: 0.0553 - val_accuracy: 0.9948 - lr: 1.0000e-05\n",
            "Epoch 12/40\n",
            "59/59 [==============================] - ETA: 0s - loss: 0.0875 - accuracy: 0.9850\n",
            "Epoch 12: val_loss did not improve from 0.05211\n",
            "59/59 [==============================] - 4s 73ms/step - loss: 0.0875 - accuracy: 0.9850 - val_loss: 0.1451 - val_accuracy: 0.9635 - lr: 1.0000e-05\n",
            "Epoch 13/40\n",
            "59/59 [==============================] - ETA: 0s - loss: 0.0615 - accuracy: 0.9946\n",
            "Epoch 13: val_loss did not improve from 0.05211\n",
            "59/59 [==============================] - 4s 73ms/step - loss: 0.0615 - accuracy: 0.9946 - val_loss: 0.0674 - val_accuracy: 0.9896 - lr: 1.0000e-05\n",
            "Epoch 14/40\n",
            "59/59 [==============================] - ETA: 0s - loss: 0.0968 - accuracy: 0.9829\n",
            "Epoch 14: val_loss improved from 0.05211 to 0.05174, saving model to model.h5\n",
            "59/59 [==============================] - 4s 75ms/step - loss: 0.0968 - accuracy: 0.9829 - val_loss: 0.0517 - val_accuracy: 0.9948 - lr: 1.0000e-05\n",
            "Epoch 15/40\n",
            "59/59 [==============================] - ETA: 0s - loss: 0.0951 - accuracy: 0.9797\n",
            "Epoch 15: val_loss did not improve from 0.05174\n",
            "59/59 [==============================] - 4s 74ms/step - loss: 0.0951 - accuracy: 0.9797 - val_loss: 0.1157 - val_accuracy: 0.9740 - lr: 1.0000e-05\n",
            "Epoch 16/40\n",
            "59/59 [==============================] - ETA: 0s - loss: 0.0838 - accuracy: 0.9861\n",
            "Epoch 16: val_loss did not improve from 0.05174\n",
            "59/59 [==============================] - 4s 72ms/step - loss: 0.0838 - accuracy: 0.9861 - val_loss: 0.0732 - val_accuracy: 0.9948 - lr: 1.0000e-05\n",
            "Epoch 17/40\n",
            "59/59 [==============================] - ETA: 0s - loss: 0.0893 - accuracy: 0.9786\n",
            "Epoch 17: val_loss did not improve from 0.05174\n",
            "59/59 [==============================] - 4s 71ms/step - loss: 0.0893 - accuracy: 0.9786 - val_loss: 0.0744 - val_accuracy: 0.9896 - lr: 1.0000e-05\n",
            "Epoch 18/40\n",
            "59/59 [==============================] - ETA: 0s - loss: 0.0821 - accuracy: 0.9839\n",
            "Epoch 18: val_loss did not improve from 0.05174\n",
            "59/59 [==============================] - 4s 71ms/step - loss: 0.0821 - accuracy: 0.9839 - val_loss: 0.0688 - val_accuracy: 0.9896 - lr: 1.0000e-05\n",
            "Epoch 19/40\n",
            "59/59 [==============================] - ETA: 0s - loss: 0.0885 - accuracy: 0.9872\n",
            "Epoch 19: val_loss did not improve from 0.05174\n",
            "59/59 [==============================] - 4s 71ms/step - loss: 0.0885 - accuracy: 0.9872 - val_loss: 0.2357 - val_accuracy: 0.9479 - lr: 1.0000e-05\n",
            "Epoch 20/40\n",
            "59/59 [==============================] - ETA: 0s - loss: 0.1089 - accuracy: 0.9754\n",
            "Epoch 20: val_loss did not improve from 0.05174\n",
            "59/59 [==============================] - 4s 73ms/step - loss: 0.1089 - accuracy: 0.9754 - val_loss: 0.3771 - val_accuracy: 0.9271 - lr: 1.0000e-05\n",
            "Epoch 21/40\n",
            "59/59 [==============================] - ETA: 0s - loss: 0.0667 - accuracy: 0.9946\n",
            "Epoch 21: val_loss did not improve from 0.05174\n",
            "59/59 [==============================] - 4s 72ms/step - loss: 0.0667 - accuracy: 0.9946 - val_loss: 0.1605 - val_accuracy: 0.9635 - lr: 1.0000e-05\n",
            "Epoch 22/40\n",
            "59/59 [==============================] - ETA: 0s - loss: 0.0812 - accuracy: 0.9893\n",
            "Epoch 22: val_loss did not improve from 0.05174\n",
            "59/59 [==============================] - 6s 100ms/step - loss: 0.0812 - accuracy: 0.9893 - val_loss: 0.2177 - val_accuracy: 0.9635 - lr: 1.0000e-05\n",
            "Epoch 23/40\n",
            "59/59 [==============================] - ETA: 0s - loss: 0.0921 - accuracy: 0.9818\n",
            "Epoch 23: val_loss did not improve from 0.05174\n",
            "59/59 [==============================] - 4s 73ms/step - loss: 0.0921 - accuracy: 0.9818 - val_loss: 0.0589 - val_accuracy: 0.9948 - lr: 1.0000e-05\n",
            "Epoch 24/40\n",
            "59/59 [==============================] - ETA: 0s - loss: 0.0663 - accuracy: 0.9914\n",
            "Epoch 24: val_loss did not improve from 0.05174\n",
            "59/59 [==============================] - 4s 74ms/step - loss: 0.0663 - accuracy: 0.9914 - val_loss: 0.0524 - val_accuracy: 0.9948 - lr: 1.0000e-05\n",
            "Epoch 25/40\n",
            "59/59 [==============================] - ETA: 0s - loss: 0.0741 - accuracy: 0.9872\n",
            "Epoch 25: val_loss did not improve from 0.05174\n",
            "59/59 [==============================] - 4s 74ms/step - loss: 0.0741 - accuracy: 0.9872 - val_loss: 0.0537 - val_accuracy: 0.9948 - lr: 1.0000e-05\n",
            "Epoch 26/40\n",
            "59/59 [==============================] - ETA: 0s - loss: 0.0858 - accuracy: 0.9861\n",
            "Epoch 26: val_loss did not improve from 0.05174\n",
            "59/59 [==============================] - 4s 73ms/step - loss: 0.0858 - accuracy: 0.9861 - val_loss: 0.0612 - val_accuracy: 0.9948 - lr: 1.0000e-05\n",
            "Epoch 27/40\n",
            "59/59 [==============================] - ETA: 0s - loss: 0.0777 - accuracy: 0.9872\n",
            "Epoch 27: val_loss did not improve from 0.05174\n",
            "59/59 [==============================] - 4s 73ms/step - loss: 0.0777 - accuracy: 0.9872 - val_loss: 0.0536 - val_accuracy: 0.9948 - lr: 1.0000e-05\n",
            "Epoch 28/40\n",
            "59/59 [==============================] - ETA: 0s - loss: 0.0748 - accuracy: 0.9882\n",
            "Epoch 28: val_loss did not improve from 0.05174\n",
            "59/59 [==============================] - 4s 75ms/step - loss: 0.0748 - accuracy: 0.9882 - val_loss: 0.0523 - val_accuracy: 0.9948 - lr: 1.0000e-05\n",
            "Epoch 29/40\n",
            "59/59 [==============================] - ETA: 0s - loss: 0.0890 - accuracy: 0.9893\n",
            "Epoch 29: val_loss did not improve from 0.05174\n",
            "59/59 [==============================] - 4s 72ms/step - loss: 0.0890 - accuracy: 0.9893 - val_loss: 0.0838 - val_accuracy: 0.9896 - lr: 1.0000e-05\n",
            "Epoch 30/40\n",
            "59/59 [==============================] - ETA: 0s - loss: 0.0784 - accuracy: 0.9882\n",
            "Epoch 30: val_loss improved from 0.05174 to 0.05145, saving model to model.h5\n",
            "59/59 [==============================] - 4s 74ms/step - loss: 0.0784 - accuracy: 0.9882 - val_loss: 0.0515 - val_accuracy: 0.9948 - lr: 1.0000e-05\n",
            "Epoch 31/40\n",
            "59/59 [==============================] - ETA: 0s - loss: 0.0711 - accuracy: 0.9893\n",
            "Epoch 31: val_loss did not improve from 0.05145\n",
            "59/59 [==============================] - 4s 73ms/step - loss: 0.0711 - accuracy: 0.9893 - val_loss: 0.0571 - val_accuracy: 0.9948 - lr: 1.0000e-05\n",
            "Epoch 32/40\n",
            "59/59 [==============================] - ETA: 0s - loss: 0.0955 - accuracy: 0.9872\n",
            "Epoch 32: val_loss did not improve from 0.05145\n",
            "59/59 [==============================] - 4s 74ms/step - loss: 0.0955 - accuracy: 0.9872 - val_loss: 0.0790 - val_accuracy: 0.9896 - lr: 1.0000e-05\n",
            "Epoch 33/40\n",
            "59/59 [==============================] - ETA: 0s - loss: 0.0883 - accuracy: 0.9852\n",
            "Epoch 33: val_loss did not improve from 0.05145\n",
            "59/59 [==============================] - 4s 72ms/step - loss: 0.0883 - accuracy: 0.9852 - val_loss: 0.0674 - val_accuracy: 0.9948 - lr: 1.0000e-05\n",
            "Epoch 34/40\n",
            "59/59 [==============================] - ETA: 0s - loss: 0.0770 - accuracy: 0.9882\n",
            "Epoch 34: val_loss improved from 0.05145 to 0.05057, saving model to model.h5\n",
            "59/59 [==============================] - 4s 73ms/step - loss: 0.0770 - accuracy: 0.9882 - val_loss: 0.0506 - val_accuracy: 0.9948 - lr: 1.0000e-05\n",
            "Epoch 35/40\n",
            "59/59 [==============================] - ETA: 0s - loss: 0.0819 - accuracy: 0.9861\n",
            "Epoch 35: val_loss did not improve from 0.05057\n",
            "59/59 [==============================] - 4s 74ms/step - loss: 0.0819 - accuracy: 0.9861 - val_loss: 0.0813 - val_accuracy: 0.9844 - lr: 1.0000e-05\n",
            "Epoch 36/40\n",
            "59/59 [==============================] - ETA: 0s - loss: 0.0735 - accuracy: 0.9936\n",
            "Epoch 36: val_loss did not improve from 0.05057\n",
            "59/59 [==============================] - 4s 72ms/step - loss: 0.0735 - accuracy: 0.9936 - val_loss: 0.0578 - val_accuracy: 0.9896 - lr: 1.0000e-05\n",
            "Epoch 37/40\n",
            "59/59 [==============================] - ETA: 0s - loss: 0.0815 - accuracy: 0.9872\n",
            "Epoch 37: val_loss did not improve from 0.05057\n",
            "59/59 [==============================] - 4s 74ms/step - loss: 0.0815 - accuracy: 0.9872 - val_loss: 0.0678 - val_accuracy: 0.9948 - lr: 1.0000e-05\n",
            "Epoch 38/40\n",
            "59/59 [==============================] - ETA: 0s - loss: 0.0663 - accuracy: 0.9946\n",
            "Epoch 38: val_loss did not improve from 0.05057\n",
            "59/59 [==============================] - 4s 73ms/step - loss: 0.0663 - accuracy: 0.9946 - val_loss: 0.0533 - val_accuracy: 0.9948 - lr: 1.0000e-05\n",
            "Epoch 39/40\n",
            "59/59 [==============================] - ETA: 0s - loss: 0.0676 - accuracy: 0.9914\n",
            "Epoch 39: val_loss did not improve from 0.05057\n",
            "59/59 [==============================] - 4s 71ms/step - loss: 0.0676 - accuracy: 0.9914 - val_loss: 0.0987 - val_accuracy: 0.9792 - lr: 1.0000e-05\n",
            "Epoch 40/40\n",
            "59/59 [==============================] - ETA: 0s - loss: 0.0726 - accuracy: 0.9904\n",
            "Epoch 40: val_loss did not improve from 0.05057\n",
            "59/59 [==============================] - 4s 71ms/step - loss: 0.0726 - accuracy: 0.9904 - val_loss: 0.0730 - val_accuracy: 0.9844 - lr: 1.0000e-05\n"
          ]
        }
      ]
    },
    {
      "cell_type": "markdown",
      "source": [
        "# Model evaluations/ prediction\n"
      ],
      "metadata": {
        "id": "onvgQRuhXEX8"
      }
    },
    {
      "cell_type": "code",
      "source": [
        "\n",
        "import matplotlib.pyplot as plt\n",
        "\n",
        "\n",
        "plt.plot(history.history['loss'])\n",
        "plt.plot(history.history['val_loss'])\n",
        "plt.title('Model Loss')\n",
        "plt.xlabel('No. of epochs')\n",
        "plt.ylabel('Losses')\n",
        "plt.legend(['Train','Validation'])\n",
        "plt.show()\n",
        "\n",
        "\n",
        "plt.plot(history.history['accuracy'])\n",
        "plt.plot(history.history['val_accuracy'])\n",
        "plt.title('Model Accuracy')\n",
        "plt.xlabel('No. of epochs')\n",
        "plt.ylabel('accuracies')\n",
        "plt.legend(['Train','Validation'])\n",
        "plt.show()"
      ],
      "metadata": {
        "id": "YxP6zMthXJiS"
      },
      "execution_count": null,
      "outputs": []
    },
    {
      "cell_type": "code",
      "source": [
        "data_generator = ImageDataGenerator(\n",
        "        validation_split=0.05,\n",
        "        rotation_range=20,\n",
        "        width_shift_range=0.2,\n",
        "        height_shift_range=0.2,\n",
        "        shear_range=0.2,\n",
        "        zoom_range=0.10,\n",
        "        horizontal_flip=True,\n",
        "        fill_mode='nearest')\n",
        "im_shape=(128,128)\n",
        "BATCH_SIZE = 16\n",
        "val_data_generator = ImageDataGenerator(validation_split=0.2)\n",
        "train_generator = data_generator.flow_from_directory('/content/test_/',target_size=im_shape, shuffle=True, \n",
        "                                                     class_mode='categorical', batch_size=BATCH_SIZE, subset=\"training\")\n",
        "# Generator para parte validação\n",
        "validation_generator = val_data_generator.flow_from_directory('/content/test_/',target_size=im_shape, shuffle=False, \n",
        "                                                     class_mode='categorical', batch_size=BATCH_SIZE, subset=\"validation\")\n",
        "\n",
        "# Generator para dataset de teste\n",
        "test_generator = ImageDataGenerator()\n",
        "test_generator = test_generator.flow_from_directory('/content/output_folder/charts/',target_size=im_shape,classes=['test'], shuffle=False,\n",
        "                                                     class_mode='categorical', batch_size=BATCH_SIZE)\n",
        "\n",
        "nb_train_samples = train_generator.samples\n",
        "nb_validation_samples = validation_generator.samples\n",
        "nb_test_samples = test_generator.samples\n",
        "classes = list(train_generator.class_indices.keys())\n",
        "print('Classes: '+str(classes))\n",
        "num_classes  = len(classes)"
      ],
      "metadata": {
        "colab": {
          "base_uri": "https://localhost:8080/"
        },
        "id": "AiUzPS8hCs-r",
        "outputId": "e4cce1b0-a661-455d-fa0f-d5ba555c25b2"
      },
      "execution_count": null,
      "outputs": [
        {
          "output_type": "stream",
          "name": "stdout",
          "text": [
            "Found 950 images belonging to 5 classes.\n",
            "Found 200 images belonging to 5 classes.\n",
            "Found 50 images belonging to 1 classes.\n",
            "Classes: ['dot_line', 'hbar_categorical', 'line', 'pie', 'vbar_categorical']\n"
          ]
        }
      ]
    },
    {
      "cell_type": "code",
      "source": [
        "import datetime as dt\n",
        "import matplotlib.pyplot as plt\n",
        "import matplotlib.image as img\n",
        "import numpy as np\n",
        "import os\n",
        "import pandas as pd\n",
        "import seaborn as sns\n",
        "from tensorflow.keras.applications import VGG16\n",
        "from tensorflow.keras.applications import resnet50\n",
        "from tensorflow.keras.applications import vgg16\n",
        "from keras.preprocessing import image\n",
        "from tensorflow.keras.preprocessing.image import ImageDataGenerator\n",
        "from tensorflow.keras.layers import Dense, Dropout, BatchNormalization, ReLU, Activation\n",
        "from tensorflow.keras.models import Sequential\n",
        "\n",
        "from tensorflow.keras.activations import swish,relu\n",
        "from tensorflow.keras.models import Model\n",
        "from tensorflow.keras.optimizers import Adam\n",
        "from tensorflow.keras.callbacks import ModelCheckpoint, ReduceLROnPlateau, EarlyStopping\n",
        "from mpl_toolkits.axes_grid1 import ImageGrid\n",
        "from sklearn.metrics import accuracy_score, confusion_matrix\n",
        "from tqdm import tqdm\n",
        "from sklearn.model_selection import train_test_split\n",
        "import random\n",
        "import imgaug as ia\n",
        "import imgaug.augmenters as iaa\n",
        "from keras.utils import layer_utils\n",
        "from tensorflow.keras.utils import to_categorical\n",
        "from statistics import mean\n",
        "import math\n",
        "import cv2\n",
        "from tensorflow import keras\n",
        "from sklearn.metrics import accuracy_score\n",
        "from sklearn.metrics import classification_report\n",
        "\n",
        "def plot_confusion_matrix(cm, classes, normalize=False,title='Confusion matrix',cmap=plt.cm.Greens):\n",
        "    \n",
        "    fig = plt.figure(figsize=(10,10))\n",
        "    plt.imshow(cm, interpolation='nearest', cmap=cmap)\n",
        "    plt.title(title)\n",
        "    tick_marks = np.arange(len(classes))\n",
        "    plt.xticks(tick_marks, classes, rotation=90)\n",
        "    plt.yticks(tick_marks, classes)\n",
        "\n",
        "    if normalize:\n",
        "        cm = cm.astype('float') / cm.sum(axis=1)[:, np.newaxis]\n",
        "\n",
        "    thresh = cm.max() / 2.\n",
        "    for i, j in itertools.product(range(cm.shape[0]), range(cm.shape[1])):\n",
        "        plt.text(j, i, cm[i, j],\n",
        "                 horizontalalignment=\"center\",\n",
        "                 color=\"white\" if cm[i, j] > thresh else \"black\")\n",
        "\n",
        "    plt.tight_layout()\n",
        "    plt.ylabel('Actual label')\n",
        "    plt.xlabel('Predicted label')"
      ],
      "metadata": {
        "id": "4Oc-xhKvY25b"
      },
      "execution_count": 18,
      "outputs": []
    },
    {
      "cell_type": "code",
      "source": [
        "#val\n",
        "import itertools\n",
        "predictions = model.predict_generator(validation_generator)\n",
        "y_predval_vgg = np.argmax(predictions, axis=1)\n",
        "cf_matrix = confusion_matrix(validation_generator.classes, y_predval_vgg)\n",
        "print('Classification Report')\n",
        "print(classification_report(validation_generator.classes, y_predval_vgg, target_names=class_names))\n",
        "#plt.figure(figsize=(20,20))\n",
        "confusionMTX = confusion_matrix(validation_generator.classes, y_predval_vgg) \n",
        "plot_confusion_matrix(confusionMTX, classes =class_names) \n"
      ],
      "metadata": {
        "colab": {
          "base_uri": "https://localhost:8080/",
          "height": 1000
        },
        "id": "Saav4BMFVQa9",
        "outputId": "92d38501-43ee-4962-ce02-711b6996c72f"
      },
      "execution_count": 26,
      "outputs": [
        {
          "output_type": "stream",
          "name": "stderr",
          "text": [
            "/usr/local/lib/python3.7/dist-packages/ipykernel_launcher.py:3: UserWarning: `Model.predict_generator` is deprecated and will be removed in a future version. Please use `Model.predict`, which supports generators.\n",
            "  This is separate from the ipykernel package so we can avoid doing imports until\n"
          ]
        },
        {
          "output_type": "stream",
          "name": "stdout",
          "text": [
            "Classification Report\n",
            "                  precision    recall  f1-score   support\n",
            "\n",
            "        dot_line       1.00      0.97      0.99        40\n",
            "hbar_categorical       1.00      1.00      1.00        40\n",
            "            line       0.98      1.00      0.99        40\n",
            "             pie       1.00      1.00      1.00        40\n",
            "vbar_categorical       1.00      1.00      1.00        40\n",
            "\n",
            "        accuracy                           0.99       200\n",
            "       macro avg       1.00      0.99      0.99       200\n",
            "    weighted avg       1.00      0.99      0.99       200\n",
            "\n"
          ]
        },
        {
          "output_type": "display_data",
          "data": {
            "text/plain": [
              "<Figure size 720x720 with 1 Axes>"
            ],
            "image/png": "[encoded data removed]"
          },
          "metadata": {
            "needs_background": "light"
          }
        }
      ]
    },
    {
      "cell_type": "code",
      "source": [
        "Y_pred_vgg = model.predict_generator(validation_generator)\n",
        "y_pred_vgg = np.argmax(Y_pred_vgg, axis=1)\n",
        "print('Confusion Matrix')\n",
        "conf_matrix_vgg = confusion_matrix(validation_generator.classes, y_pred_vgg)\n",
        "cm_vgg = np.array2string(conf_matrix_vgg)\n",
        "print(conf_matrix_vgg)\n",
        "print(\"=============================================================================================\")\n",
        "print('Classification Report')\n",
        "target_names = ['n0','n1','n2','n3','n4','n5','n6','n7','n8','n9']\n",
        "class_rep_vgg = classification_report(validation_generator.classes, y_pred_vgg, target_names=class_names)\n",
        "#plot_confusion_matrix\n",
        "print(class_rep_vgg)"
      ],
      "metadata": {
        "colab": {
          "base_uri": "https://localhost:8080/"
        },
        "id": "DEu9EyL99zB4",
        "outputId": "8df4d089-d897-4541-95d9-adab617d3187"
      },
      "execution_count": null,
      "outputs": [
        {
          "output_type": "stream",
          "name": "stderr",
          "text": [
            "/usr/local/lib/python3.7/dist-packages/ipykernel_launcher.py:1: UserWarning: `Model.predict_generator` is deprecated and will be removed in a future version. Please use `Model.predict`, which supports generators.\n",
            "  \"\"\"Entry point for launching an IPython kernel.\n"
          ]
        },
        {
          "output_type": "stream",
          "name": "stdout",
          "text": [
            "Confusion Matrix\n",
            "[[36  0  4  0  0]\n",
            " [ 0 39  0  0  1]\n",
            " [ 0  0 40  0  0]\n",
            " [ 0  0  0 40  0]\n",
            " [ 0  0  0  0 40]]\n",
            "=============================================================================================\n",
            "Classification Report\n",
            "                  precision    recall  f1-score   support\n",
            "\n",
            "        dot_line       1.00      0.90      0.95        40\n",
            "hbar_categorical       1.00      0.97      0.99        40\n",
            "            line       0.91      1.00      0.95        40\n",
            "             pie       1.00      1.00      1.00        40\n",
            "vbar_categorical       0.98      1.00      0.99        40\n",
            "\n",
            "        accuracy                           0.97       200\n",
            "       macro avg       0.98      0.97      0.97       200\n",
            "    weighted avg       0.98      0.97      0.97       200\n",
            "\n"
          ]
        }
      ]
    },
    {
      "cell_type": "code",
      "source": [
        "prediction=model.predict_generator(test_generator, steps=len(test_generator))\n",
        "prediction.shape\n",
        "prediction_index= np.argmax(prediction, axis=1)\n",
        "prediction_index.shape\n",
        "(10000,)\n",
        "labels=train_ds.class_indices\n",
        "print(type(labels), len(labels))\n",
        "\n",
        "labels = dict((value,key) for key,value in labels.items())\n",
        "# labels\n",
        "predicted_class = [labels[k] for k in prediction_index]\n",
        "len(predicted_class)\n",
        "# predicted_class\n",
        "10000\n",
        "filenames_ = test_generator.filenames\n",
        "#filenames_\n",
        "\n",
        "filenames=[]\n",
        "\n",
        "for e in filenames_:\n",
        "    e = e[5:7]\n",
        "    filenames.append(e)\n",
        "results = pd.DataFrame({\"file_name\":filenames, \"category\":predicted_class})\n",
        "df =results.sort_values(by=[\"category\"])  # this  will sort the whole df in decending order on the basis of the column \"2\"\n",
        "\n",
        "results\n"
      ],
      "metadata": {
        "colab": {
          "base_uri": "https://localhost:8080/",
          "height": 1000
        },
        "id": "88jbZqJTZbQ_",
        "outputId": "1c4372e0-d660-4f61-adcb-74db95a0e9e7"
      },
      "execution_count": null,
      "outputs": [
        {
          "output_type": "stream",
          "name": "stdout",
          "text": [
            "<class 'dict'> 5\n"
          ]
        },
        {
          "output_type": "stream",
          "name": "stderr",
          "text": [
            "/usr/local/lib/python3.7/dist-packages/ipykernel_launcher.py:1: UserWarning: `Model.predict_generator` is deprecated and will be removed in a future version. Please use `Model.predict`, which supports generators.\n",
            "  \"\"\"Entry point for launching an IPython kernel.\n"
          ]
        },
        {
          "output_type": "execute_result",
          "data": {
            "text/plain": [
              "   file_name          category\n",
              "0         0.  vbar_categorical\n",
              "1         1.  hbar_categorical\n",
              "2         10          dot_line\n",
              "3         11  hbar_categorical\n",
              "4         12              line\n",
              "5         13              line\n",
              "6         14               pie\n",
              "7         15              line\n",
              "8         16  hbar_categorical\n",
              "9         17  vbar_categorical\n",
              "10        18          dot_line\n",
              "11        19  hbar_categorical\n",
              "12        2.  vbar_categorical\n",
              "13        20          dot_line\n",
              "14        21               pie\n",
              "15        22          dot_line\n",
              "16        23               pie\n",
              "17        24  vbar_categorical\n",
              "18        25  hbar_categorical\n",
              "19        26  hbar_categorical\n",
              "20        27          dot_line\n",
              "21        28               pie\n",
              "22        29               pie\n",
              "23        3.  vbar_categorical\n",
              "24        30  hbar_categorical\n",
              "25        31              line\n",
              "26        32  vbar_categorical\n",
              "27        33  hbar_categorical\n",
              "28        34  hbar_categorical\n",
              "29        35              line\n",
              "30        36  vbar_categorical\n",
              "31        37          dot_line\n",
              "32        38  vbar_categorical\n",
              "33        39          dot_line\n",
              "34        4.              line\n",
              "35        40              line\n",
              "36        41  vbar_categorical\n",
              "37        42               pie\n",
              "38        43  hbar_categorical\n",
              "39        44               pie\n",
              "40        45  hbar_categorical\n",
              "41        46              line\n",
              "42        47               pie\n",
              "43        48               pie\n",
              "44        49              line\n",
              "45        5.              line\n",
              "46        6.  vbar_categorical\n",
              "47        7.  vbar_categorical\n",
              "48        8.              line\n",
              "49        9.              line"
            ],
            "text/html": [
              "\n",
              "  <div id=\"df-d8d7ec01-6677-4733-a2b5-ca1890dc37e8\">\n",
              "    <div class=\"colab-df-container\">\n",
              "      <div>\n",
              "<style scoped>\n",
              "    .dataframe tbody tr th:only-of-type {\n",
              "        vertical-align: middle;\n",
              "    }\n",
              "\n",
              "    .dataframe tbody tr th {\n",
              "        vertical-align: top;\n",
              "    }\n",
              "\n",
              "    .dataframe thead th {\n",
              "        text-align: right;\n",
              "    }\n",
              "</style>\n",
              "<table border=\"1\" class=\"dataframe\">\n",
              "  <thead>\n",
              "    <tr style=\"text-align: right;\">\n",
              "      <th></th>\n",
              "      <th>file_name</th>\n",
              "      <th>category</th>\n",
              "    </tr>\n",
              "  </thead>\n",
              "  <tbody>\n",
              "    <tr>\n",
              "      <th>0</th>\n",
              "      <td>0.</td>\n",
              "      <td>vbar_categorical</td>\n",
              "    </tr>\n",
              "    <tr>\n",
              "      <th>1</th>\n",
              "      <td>1.</td>\n",
              "      <td>hbar_categorical</td>\n",
              "    </tr>\n",
              "    <tr>\n",
              "      <th>2</th>\n",
              "      <td>10</td>\n",
              "      <td>dot_line</td>\n",
              "    </tr>\n",
              "    <tr>\n",
              "      <th>3</th>\n",
              "      <td>11</td>\n",
              "      <td>hbar_categorical</td>\n",
              "    </tr>\n",
              "    <tr>\n",
              "      <th>4</th>\n",
              "      <td>12</td>\n",
              "      <td>line</td>\n",
              "    </tr>\n",
              "    <tr>\n",
              "      <th>5</th>\n",
              "      <td>13</td>\n",
              "      <td>line</td>\n",
              "    </tr>\n",
              "    <tr>\n",
              "      <th>6</th>\n",
              "      <td>14</td>\n",
              "      <td>pie</td>\n",
              "    </tr>\n",
              "    <tr>\n",
              "      <th>7</th>\n",
              "      <td>15</td>\n",
              "      <td>line</td>\n",
              "    </tr>\n",
              "    <tr>\n",
              "      <th>8</th>\n",
              "      <td>16</td>\n",
              "      <td>hbar_categorical</td>\n",
              "    </tr>\n",
              "    <tr>\n",
              "      <th>9</th>\n",
              "      <td>17</td>\n",
              "      <td>vbar_categorical</td>\n",
              "    </tr>\n",
              "    <tr>\n",
              "      <th>10</th>\n",
              "      <td>18</td>\n",
              "      <td>dot_line</td>\n",
              "    </tr>\n",
              "    <tr>\n",
              "      <th>11</th>\n",
              "      <td>19</td>\n",
              "      <td>hbar_categorical</td>\n",
              "    </tr>\n",
              "    <tr>\n",
              "      <th>12</th>\n",
              "      <td>2.</td>\n",
              "      <td>vbar_categorical</td>\n",
              "    </tr>\n",
              "    <tr>\n",
              "      <th>13</th>\n",
              "      <td>20</td>\n",
              "      <td>dot_line</td>\n",
              "    </tr>\n",
              "    <tr>\n",
              "      <th>14</th>\n",
              "      <td>21</td>\n",
              "      <td>pie</td>\n",
              "    </tr>\n",
              "    <tr>\n",
              "      <th>15</th>\n",
              "      <td>22</td>\n",
              "      <td>dot_line</td>\n",
              "    </tr>\n",
              "    <tr>\n",
              "      <th>16</th>\n",
              "      <td>23</td>\n",
              "      <td>pie</td>\n",
              "    </tr>\n",
              "    <tr>\n",
              "      <th>17</th>\n",
              "      <td>24</td>\n",
              "      <td>vbar_categorical</td>\n",
              "    </tr>\n",
              "    <tr>\n",
              "      <th>18</th>\n",
              "      <td>25</td>\n",
              "      <td>hbar_categorical</td>\n",
              "    </tr>\n",
              "    <tr>\n",
              "      <th>19</th>\n",
              "      <td>26</td>\n",
              "      <td>hbar_categorical</td>\n",
              "    </tr>\n",
              "    <tr>\n",
              "      <th>20</th>\n",
              "      <td>27</td>\n",
              "      <td>dot_line</td>\n",
              "    </tr>\n",
              "    <tr>\n",
              "      <th>21</th>\n",
              "      <td>28</td>\n",
              "      <td>pie</td>\n",
              "    </tr>\n",
              "    <tr>\n",
              "      <th>22</th>\n",
              "      <td>29</td>\n",
              "      <td>pie</td>\n",
              "    </tr>\n",
              "    <tr>\n",
              "      <th>23</th>\n",
              "      <td>3.</td>\n",
              "      <td>vbar_categorical</td>\n",
              "    </tr>\n",
              "    <tr>\n",
              "      <th>24</th>\n",
              "      <td>30</td>\n",
              "      <td>hbar_categorical</td>\n",
              "    </tr>\n",
              "    <tr>\n",
              "      <th>25</th>\n",
              "      <td>31</td>\n",
              "      <td>line</td>\n",
              "    </tr>\n",
              "    <tr>\n",
              "      <th>26</th>\n",
              "      <td>32</td>\n",
              "      <td>vbar_categorical</td>\n",
              "    </tr>\n",
              "    <tr>\n",
              "      <th>27</th>\n",
              "      <td>33</td>\n",
              "      <td>hbar_categorical</td>\n",
              "    </tr>\n",
              "    <tr>\n",
              "      <th>28</th>\n",
              "      <td>34</td>\n",
              "      <td>hbar_categorical</td>\n",
              "    </tr>\n",
              "    <tr>\n",
              "      <th>29</th>\n",
              "      <td>35</td>\n",
              "      <td>line</td>\n",
              "    </tr>\n",
              "    <tr>\n",
              "      <th>30</th>\n",
              "      <td>36</td>\n",
              "      <td>vbar_categorical</td>\n",
              "    </tr>\n",
              "    <tr>\n",
              "      <th>31</th>\n",
              "      <td>37</td>\n",
              "      <td>dot_line</td>\n",
              "    </tr>\n",
              "    <tr>\n",
              "      <th>32</th>\n",
              "      <td>38</td>\n",
              "      <td>vbar_categorical</td>\n",
              "    </tr>\n",
              "    <tr>\n",
              "      <th>33</th>\n",
              "      <td>39</td>\n",
              "      <td>dot_line</td>\n",
              "    </tr>\n",
              "    <tr>\n",
              "      <th>34</th>\n",
              "      <td>4.</td>\n",
              "      <td>line</td>\n",
              "    </tr>\n",
              "    <tr>\n",
              "      <th>35</th>\n",
              "      <td>40</td>\n",
              "      <td>line</td>\n",
              "    </tr>\n",
              "    <tr>\n",
              "      <th>36</th>\n",
              "      <td>41</td>\n",
              "      <td>vbar_categorical</td>\n",
              "    </tr>\n",
              "    <tr>\n",
              "      <th>37</th>\n",
              "      <td>42</td>\n",
              "      <td>pie</td>\n",
              "    </tr>\n",
              "    <tr>\n",
              "      <th>38</th>\n",
              "      <td>43</td>\n",
              "      <td>hbar_categorical</td>\n",
              "    </tr>\n",
              "    <tr>\n",
              "      <th>39</th>\n",
              "      <td>44</td>\n",
              "      <td>pie</td>\n",
              "    </tr>\n",
              "    <tr>\n",
              "      <th>40</th>\n",
              "      <td>45</td>\n",
              "      <td>hbar_categorical</td>\n",
              "    </tr>\n",
              "    <tr>\n",
              "      <th>41</th>\n",
              "      <td>46</td>\n",
              "      <td>line</td>\n",
              "    </tr>\n",
              "    <tr>\n",
              "      <th>42</th>\n",
              "      <td>47</td>\n",
              "      <td>pie</td>\n",
              "    </tr>\n",
              "    <tr>\n",
              "      <th>43</th>\n",
              "      <td>48</td>\n",
              "      <td>pie</td>\n",
              "    </tr>\n",
              "    <tr>\n",
              "      <th>44</th>\n",
              "      <td>49</td>\n",
              "      <td>line</td>\n",
              "    </tr>\n",
              "    <tr>\n",
              "      <th>45</th>\n",
              "      <td>5.</td>\n",
              "      <td>line</td>\n",
              "    </tr>\n",
              "    <tr>\n",
              "      <th>46</th>\n",
              "      <td>6.</td>\n",
              "      <td>vbar_categorical</td>\n",
              "    </tr>\n",
              "    <tr>\n",
              "      <th>47</th>\n",
              "      <td>7.</td>\n",
              "      <td>vbar_categorical</td>\n",
              "    </tr>\n",
              "    <tr>\n",
              "      <th>48</th>\n",
              "      <td>8.</td>\n",
              "      <td>line</td>\n",
              "    </tr>\n",
              "    <tr>\n",
              "      <th>49</th>\n",
              "      <td>9.</td>\n",
              "      <td>line</td>\n",
              "    </tr>\n",
              "  </tbody>\n",
              "</table>\n",
              "</div>\n",
              "      <button class=\"colab-df-convert\" onclick=\"convertToInteractive('df-d8d7ec01-6677-4733-a2b5-ca1890dc37e8')\"\n",
              "              title=\"Convert this dataframe to an interactive table.\"\n",
              "              style=\"display:none;\">\n",
              "        \n",
              "  <svg xmlns=\"http://www.w3.org/2000/svg\" height=\"24px\"viewBox=\"0 0 24 24\"\n",
              "       width=\"24px\">\n",
              "    <path d=\"M0 0h24v24H0V0z\" fill=\"none\"/>\n",
              "    <path d=\"M18.56 5.44l.94 2.06.94-2.06 2.06-.94-2.06-.94-.94-2.06-.94 2.06-2.06.94zm-11 1L8.5 8.5l.94-2.06 2.06-.94-2.06-.94L8.5 2.5l-.94 2.06-2.06.94zm10 10l.94 2.06.94-2.06 2.06-.94-2.06-.94-.94-2.06-.94 2.06-2.06.94z\"/><path d=\"M17.41 7.96l-1.37-1.37c-.4-.4-.92-.59-1.43-.59-.52 0-1.04.2-1.43.59L10.3 9.45l-7.72 7.72c-.78.78-.78 2.05 0 2.83L4 21.41c.39.39.9.59 1.41.59.51 0 1.02-.2 1.41-.59l7.78-7.78 2.81-2.81c.8-.78.8-2.07 0-2.86zM5.41 20L4 18.59l7.72-7.72 1.47 1.35L5.41 20z\"/>\n",
              "  </svg>\n",
              "      </button>\n",
              "      \n",
              "  <style>\n",
              "    .colab-df-container {\n",
              "      display:flex;\n",
              "      flex-wrap:wrap;\n",
              "      gap: 12px;\n",
              "    }\n",
              "\n",
              "    .colab-df-convert {\n",
              "      background-color: #E8F0FE;\n",
              "      border: none;\n",
              "      border-radius: 50%;\n",
              "      cursor: pointer;\n",
              "      display: none;\n",
              "      fill: #1967D2;\n",
              "      height: 32px;\n",
              "      padding: 0 0 0 0;\n",
              "      width: 32px;\n",
              "    }\n",
              "\n",
              "    .colab-df-convert:hover {\n",
              "      background-color: #E2EBFA;\n",
              "      box-shadow: 0px 1px 2px rgba(60, 64, 67, 0.3), 0px 1px 3px 1px rgba(60, 64, 67, 0.15);\n",
              "      fill: #174EA6;\n",
              "    }\n",
              "\n",
              "    [theme=dark] .colab-df-convert {\n",
              "      background-color: #3B4455;\n",
              "      fill: #D2E3FC;\n",
              "    }\n",
              "\n",
              "    [theme=dark] .colab-df-convert:hover {\n",
              "      background-color: #434B5C;\n",
              "      box-shadow: 0px 1px 3px 1px rgba(0, 0, 0, 0.15);\n",
              "      filter: drop-shadow(0px 1px 2px rgba(0, 0, 0, 0.3));\n",
              "      fill: #FFFFFF;\n",
              "    }\n",
              "  </style>\n",
              "\n",
              "      <script>\n",
              "        const buttonEl =\n",
              "          document.querySelector('#df-d8d7ec01-6677-4733-a2b5-ca1890dc37e8 button.colab-df-convert');\n",
              "        buttonEl.style.display =\n",
              "          google.colab.kernel.accessAllowed ? 'block' : 'none';\n",
              "\n",
              "        async function convertToInteractive(key) {\n",
              "          const element = document.querySelector('#df-d8d7ec01-6677-4733-a2b5-ca1890dc37e8');\n",
              "          const dataTable =\n",
              "            await google.colab.kernel.invokeFunction('convertToInteractive',\n",
              "                                                     [key], {});\n",
              "          if (!dataTable) return;\n",
              "\n",
              "          const docLinkHtml = 'Like what you see? Visit the ' +\n",
              "            '<a target=\"_blank\" href=https://colab.research.google.com/notebooks/data_table.ipynb>data table notebook</a>'\n",
              "            + ' to learn more about interactive tables.';\n",
              "          element.innerHTML = '';\n",
              "          dataTable['output_type'] = 'display_data';\n",
              "          await google.colab.output.renderOutput(dataTable, element);\n",
              "          const docLink = document.createElement('div');\n",
              "          docLink.innerHTML = docLinkHtml;\n",
              "          element.appendChild(docLink);\n",
              "        }\n",
              "      </script>\n",
              "    </div>\n",
              "  </div>\n",
              "  "
            ]
          },
          "metadata": {},
          "execution_count": 87
        }
      ]
    },
    {
      "cell_type": "markdown",
      "source": [
        "###For above result refer the filename to column to validate"
      ],
      "metadata": {
        "id": "qX8XBFSCgXiY"
      }
    }
  ]
}